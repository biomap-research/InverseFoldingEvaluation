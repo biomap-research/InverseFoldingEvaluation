{
 "cells": [
  {
   "attachments": {},
   "cell_type": "markdown",
   "metadata": {},
   "source": [
    "## this notebook is used for parsing the raw design for statistical analysis"
   ]
  },
  {
   "cell_type": "code",
   "execution_count": 1,
   "metadata": {},
   "outputs": [
    {
     "name": "stdout",
     "output_type": "stream",
     "text": [
      "The history saving thread hit an unexpected error (DatabaseError('database disk image is malformed')).History will not be written to the database.\n"
     ]
    },
    {
     "name": "stderr",
     "output_type": "stream",
     "text": [
      "/nfs_beijing/kubeflow-user/yifan/.conda/envs/biomappd_yifan/lib/python3.10/site-packages/Bio/Data/SCOPData.py:18: BiopythonDeprecationWarning: The 'Bio.Data.SCOPData' module will be deprecated in a future release of Biopython in favor of 'Bio.Data.PDBData.\n",
      "  warnings.warn(\n"
     ]
    }
   ],
   "source": [
    "import os\n",
    "import numpy as np\n",
    "\n",
    "import seaborn as sns\n",
    "import matplotlib.pyplot as plt\n",
    "\n",
    "import sys\n",
    "import pandas as pd\n",
    "import json\n",
    "from pathlib import Path\n",
    "import abnumber\n",
    "from collections import Counter\n",
    "\n",
    "REPO_ROOT = os.path.abspath(os.path.join(os.path.dirname(\"__file__\"), '..'))\n",
    "if REPO_ROOT not in sys.path:\n",
    "    sys.path.insert(0, REPO_ROOT)\n",
    "\n",
    "from scripts.data_processing import Inverse_Folding_Design, Batch_Designs, Dataset, Exps\n",
    "from scripts.utils import get_cdr_residue_idx_list, calculate_seq_identity, fasta2seq, calculate_seq_similarity_blosum62, parse_blosum62, restype_1to3, get_sequence_by_biopython\n",
    "aa_list = restype_1to3.keys()\n",
    "BLOSUM62_MATRIX = parse_blosum62('../data/resources/BLOSUM62.txt')\n",
    "\n",
    "\n",
    "pd.set_option('display.max_columns', None)\n"
   ]
  },
  {
   "cell_type": "code",
   "execution_count": 3,
   "metadata": {},
   "outputs": [],
   "source": [
    "## load data\n",
    "df_skempi = pd.read_csv(\"../data/resources/skempi_v2.csv\", sep=';')\n",
    "EXP_INFO_JSON = \"../data/metadata.json\"\n",
    "df_fab_info = pd.read_csv(\"../data/resources/df_fab_info.csv\", index_col=0)\n",
    "df_vhh_info = pd.read_csv(\"../data/resources/df_vhh_info.csv\", index_col=0)"
   ]
  },
  {
   "attachments": {},
   "cell_type": "markdown",
   "metadata": {},
   "source": [
    "## Define exps"
   ]
  },
  {
   "cell_type": "code",
   "execution_count": 4,
   "metadata": {},
   "outputs": [
    {
     "name": "stdout",
     "output_type": "stream",
     "text": [
      "Got the following exp_info\n",
      "design id: lm_design_vanilla-fab-fullseq\n",
      "{'results_dir': '../data/design_raw/lm_design_fab_0916_full_seq', 'method': 'lm_design_vanilla', 'antibody_type': 'fab', 'info': 'full antibody seq design using lm_design vanilla on Github, with T=0.2', 'NAME': 'LM Design'}\n",
      "design id: lm_design_api-fab-fullseq_T02\n",
      "{'results_dir': '../data/design_raw/lm_design_fab_0913_full_seq', 'method': 'lm_design_biomap', 'antibody_type': 'fab', 'info': 'full antibody seq design using BioMap api, with T=0.2', 'NAME': 'LM Design'}\n",
      "design id: lm_design_api_noAG-fab-fullseq\n",
      "{'results_dir': '../data/design_raw/lm_design_fab_0919_noAgChain', 'method': 'lm_design_biomap', 'antibody_type': 'fab', 'info': 'full antibody seq design w/o ag chain in pdb complex using BioMap api', 'NAME': 'LM Design'}\n",
      "design id: antifold-fab-fullseq\n",
      "{'results_dir': '../data/design_raw/AntiFold_Batch_fab_0903', 'method': 'antifold', 'antibody_type': 'fab', 'info': 'antifold github version', 'NAME': 'AntiFold'}\n",
      "design id: antifold_noAG-fab-fullseq\n",
      "{'results_dir': '../data/design_raw/AntiFold_Batch_fab_NoAgChain_0919', 'method': 'antifold', 'antibody_type': 'fab', 'info': 'antifold github version, removed ag chain from the template PDB', 'NAME': 'AntiFold'}\n",
      "design id: antifold_relaxed-fab-fullseq\n",
      "{'results_dir': '../data/design_raw/AntiFold_Batch_fab_relaxed_0926', 'method': 'antifold', 'antibody_type': 'fab', 'info': 'antifold github version, cord relax before inference', 'NAME': 'AntiFold'}\n",
      "design id: esm_if-fab-fullseq\n",
      "{'results_dir': '../data/design_raw/esm_if_batch_fab_0903', 'method': 'esm_if', 'antibody_type': 'fab', 'info': 'esm-if github version', 'NAME': 'ESM-IF'}\n",
      "design id: esm_if_noAG-fab-fullseq\n",
      "{'results_dir': '../data/design_raw/esm_if_batch_fab_noAG_0919', 'method': 'esm_if', 'antibody_type': 'fab', 'info': 'esm-if github version, removed ag chain from the template PDB', 'NAME': 'ESM-IF'}\n",
      "design id: mpnn-fab-fullseq\n",
      "{'results_dir': '../data/design_raw/mpnn_fab', 'method': 'mpnn', 'antibody_type': 'fab', 'info': 'mpnn github version, T=0.2, full seq: seting H/L as designable chains', 'NAME': 'ProteinMPNN'}\n",
      "design id: abmpnn-fab-fullseq\n",
      "{'results_dir': '../data/design_raw/abmpnn_fab', 'method': 'abmpnn', 'antibody_type': 'fab', 'info': 'abmpnn github version, T=0.2, full seq: seting H/L as designable chains', 'NAME': 'AbMPNN'}\n",
      "design id: lm_design_vanilla-vhh-fullseq\n",
      "{'results_dir': '../data/design_raw/lm_design_vhh_0916_full_seq', 'method': 'lm_design_vanilla', 'antibody_type': 'vhh', 'info': 'full antibody seq design using lm_design vanilla on Github, with T=0.2, for vhh design', 'NAME': 'LM Design'}\n",
      "design id: antifold-vhh-fullseq\n",
      "{'results_dir': '../data/design_raw/AntiFold_vhh', 'method': 'antifold', 'antibody_type': 'vhh', 'info': 'antifold github version for vhh design', 'NAME': 'AntiFold'}\n",
      "design id: esm_if-vhh-fullseq\n",
      "{'results_dir': '../data/design_raw/esm_if_vhh', 'method': 'esm_if', 'antibody_type': 'vhh', 'info': 'esm-if github version for vhh design', 'NAME': 'ESM-IF'}\n",
      "design id: mpnn-vhh-fullseq\n",
      "{'results_dir': '../data/design_raw/mpnn_vhh', 'method': 'mpnn', 'antibody_type': 'vhh', 'info': 'mpnn github version for vhh design, T=0.2, full seq: seting H/L as designable chains', 'NAME': 'ProteinMPNN'}\n",
      "design id: abmpnn-vhh-fullseq\n",
      "{'results_dir': '../data/design_raw/abmpnn_vhh', 'method': 'abmpnn', 'antibody_type': 'vhh', 'info': 'abmpnn github version, yuxiang, T=0.2, full seq: seting H/L as designable chains', 'NAME': 'AbMPNN'}\n",
      "df_info of shape (203, 23)\n",
      "collecting results for lm_design_vanilla-fab-fullseq - {'results_dir': '../data/design_raw/lm_design_fab_0916_full_seq', 'method': 'lm_design_vanilla', 'antibody_type': 'fab', 'info': 'full antibody seq design using lm_design vanilla on Github, with T=0.2', 'NAME': 'LM Design'}\n",
      "collected df_raw with shape: (20300, 39)\n",
      "collected df_pos with shape: (11107, 24)\n",
      "collected df_pdb with shape: (203, 26)\n",
      "df_info of shape (203, 23)\n",
      "collecting results for lm_design_api-fab-fullseq_T02 - {'results_dir': '../data/design_raw/lm_design_fab_0913_full_seq', 'method': 'lm_design_biomap', 'antibody_type': 'fab', 'info': 'full antibody seq design using BioMap api, with T=0.2', 'NAME': 'LM Design'}\n",
      "collected df_raw with shape: (20300, 39)\n",
      "collected df_pos with shape: (11107, 26)\n",
      "collected df_pdb with shape: (203, 26)\n",
      "df_info of shape (203, 23)\n",
      "collecting results for lm_design_api_noAG-fab-fullseq - {'results_dir': '../data/design_raw/lm_design_fab_0919_noAgChain', 'method': 'lm_design_biomap', 'antibody_type': 'fab', 'info': 'full antibody seq design w/o ag chain in pdb complex using BioMap api', 'NAME': 'LM Design'}\n",
      "collected df_raw with shape: (20300, 39)\n",
      "collected df_pos with shape: (11107, 25)\n",
      "collected df_pdb with shape: (203, 26)\n",
      "df_info of shape (203, 23)\n",
      "collecting results for antifold-fab-fullseq - {'results_dir': '../data/design_raw/AntiFold_Batch_fab_0903', 'method': 'antifold', 'antibody_type': 'fab', 'info': 'antifold github version', 'NAME': 'AntiFold'}\n",
      "collected df_raw with shape: (20300, 39)\n",
      "collected df_pos with shape: (11107, 24)\n",
      "collected df_pdb with shape: (203, 26)\n",
      "df_info of shape (200, 23)\n",
      "collecting results for antifold_noAG-fab-fullseq - {'results_dir': '../data/design_raw/AntiFold_Batch_fab_NoAgChain_0919', 'method': 'antifold', 'antibody_type': 'fab', 'info': 'antifold github version, removed ag chain from the template PDB', 'NAME': 'AntiFold'}\n",
      "collected df_raw with shape: (20000, 39)\n",
      "collected df_pos with shape: (10933, 24)\n",
      "collected df_pdb with shape: (200, 26)\n",
      "df_info of shape (203, 23)\n",
      "collecting results for antifold_relaxed-fab-fullseq - {'results_dir': '../data/design_raw/AntiFold_Batch_fab_relaxed_0926', 'method': 'antifold', 'antibody_type': 'fab', 'info': 'antifold github version, cord relax before inference', 'NAME': 'AntiFold'}\n",
      "collected df_raw with shape: (20300, 39)\n",
      "collected df_pos with shape: (11107, 24)\n",
      "collected df_pdb with shape: (203, 26)\n",
      "df_info of shape (203, 23)\n",
      "collecting results for esm_if-fab-fullseq - {'results_dir': '../data/design_raw/esm_if_batch_fab_0903', 'method': 'esm_if', 'antibody_type': 'fab', 'info': 'esm-if github version', 'NAME': 'ESM-IF'}\n",
      "collected df_raw with shape: (20300, 39)\n",
      "collected df_pos with shape: (11107, 24)\n",
      "collected df_pdb with shape: (203, 26)\n",
      "df_info of shape (203, 23)\n",
      "collecting results for esm_if_noAG-fab-fullseq - {'results_dir': '../data/design_raw/esm_if_batch_fab_noAG_0919', 'method': 'esm_if', 'antibody_type': 'fab', 'info': 'esm-if github version, removed ag chain from the template PDB', 'NAME': 'ESM-IF'}\n",
      "collected df_raw with shape: (4060, 39)\n",
      "collected df_pos with shape: (11107, 24)\n",
      "collected df_pdb with shape: (203, 26)\n",
      "df_info of shape (203, 23)\n",
      "collecting results for mpnn-fab-fullseq - {'results_dir': '../data/design_raw/mpnn_fab', 'method': 'mpnn', 'antibody_type': 'fab', 'info': 'mpnn github version, T=0.2, full seq: seting H/L as designable chains', 'NAME': 'ProteinMPNN'}\n",
      "collected df_raw with shape: (20300, 39)\n",
      "collected df_pos with shape: (11107, 24)\n",
      "collected df_pdb with shape: (203, 26)\n",
      "df_info of shape (203, 23)\n",
      "collecting results for abmpnn-fab-fullseq - {'results_dir': '../data/design_raw/abmpnn_fab', 'method': 'abmpnn', 'antibody_type': 'fab', 'info': 'abmpnn github version, T=0.2, full seq: seting H/L as designable chains', 'NAME': 'AbMPNN'}\n",
      "collected df_raw with shape: (20300, 39)\n",
      "collected df_pos with shape: (11107, 24)\n",
      "collected df_pdb with shape: (203, 26)\n",
      "df_info of shape (61, 16)\n",
      "collecting results for lm_design_vanilla-vhh-fullseq - {'results_dir': '../data/design_raw/lm_design_vhh_0916_full_seq', 'method': 'lm_design_vanilla', 'antibody_type': 'vhh', 'info': 'full antibody seq design using lm_design vanilla on Github, with T=0.2, for vhh design', 'NAME': 'LM Design'}\n",
      "collected df_raw with shape: (6100, 24)\n",
      "collected df_pos with shape: (1576, 24)\n",
      "collected df_pdb with shape: (61, 14)\n",
      "df_info of shape (61, 16)\n",
      "collecting results for antifold-vhh-fullseq - {'results_dir': '../data/design_raw/AntiFold_vhh', 'method': 'antifold', 'antibody_type': 'vhh', 'info': 'antifold github version for vhh design', 'NAME': 'AntiFold'}\n",
      "collected df_raw with shape: (6100, 24)\n",
      "collected df_pos with shape: (1576, 24)\n",
      "collected df_pdb with shape: (61, 14)\n",
      "df_info of shape (61, 16)\n",
      "collecting results for esm_if-vhh-fullseq - {'results_dir': '../data/design_raw/esm_if_vhh', 'method': 'esm_if', 'antibody_type': 'vhh', 'info': 'esm-if github version for vhh design', 'NAME': 'ESM-IF'}\n",
      "collected df_raw with shape: (6100, 24)\n",
      "collected df_pos with shape: (1576, 24)\n",
      "collected df_pdb with shape: (61, 14)\n",
      "df_info of shape (61, 16)\n",
      "collecting results for mpnn-vhh-fullseq - {'results_dir': '../data/design_raw/mpnn_vhh', 'method': 'mpnn', 'antibody_type': 'vhh', 'info': 'mpnn github version for vhh design, T=0.2, full seq: seting H/L as designable chains', 'NAME': 'ProteinMPNN'}\n",
      "collected df_raw with shape: (6100, 24)\n",
      "collected df_pos with shape: (1576, 24)\n",
      "collected df_pdb with shape: (61, 14)\n",
      "df_info of shape (61, 16)\n",
      "collecting results for abmpnn-vhh-fullseq - {'results_dir': '../data/design_raw/abmpnn_vhh', 'method': 'abmpnn', 'antibody_type': 'vhh', 'info': 'abmpnn github version, yuxiang, T=0.2, full seq: seting H/L as designable chains', 'NAME': 'AbMPNN'}\n",
      "collected df_raw with shape: (6100, 24)\n",
      "collected df_pos with shape: (1576, 24)\n",
      "collected df_pdb with shape: (61, 14)\n"
     ]
    }
   ],
   "source": [
    "exps = Exps(df_fab= df_fab_info, df_vhh= df_vhh_info, exp_info_json=EXP_INFO_JSON)\n",
    "exps.collect_results()\n"
   ]
  },
  {
   "attachments": {},
   "cell_type": "markdown",
   "metadata": {},
   "source": [
    "### Save and load exps"
   ]
  },
  {
   "cell_type": "code",
   "execution_count": 19,
   "metadata": {},
   "outputs": [
    {
     "name": "stdout",
     "output_type": "stream",
     "text": [
      "saving to ../data/processed/exps_pickle/250217.pkl\n"
     ]
    }
   ],
   "source": [
    "import pickle\n",
    "\n",
    "pkl_dir = \"../data/processed/exps_pickle\"\n",
    "version = '250217'\n",
    "\n",
    "version_path = Path(pkl_dir)/Path(f\"{version}.pkl\")\n",
    "print(f\"saving to {version_path}\")\n",
    "with open(version_path, 'wb') as f:\n",
    "    pickle.dump(exps, f)\n"
   ]
  },
  {
   "cell_type": "code",
   "execution_count": 9,
   "metadata": {},
   "outputs": [],
   "source": [
    "# load from saved\n",
    "# with open(version_path, 'rb') as f:\n",
    "#     exps = pickle.load(f)"
   ]
  },
  {
   "attachments": {},
   "cell_type": "markdown",
   "metadata": {},
   "source": [
    "### Save df_pos and df_pdb"
   ]
  },
  {
   "cell_type": "code",
   "execution_count": 6,
   "metadata": {},
   "outputs": [],
   "source": [
    "def collect_dfs(exps):\n",
    "\n",
    "    df_pdbs, df_poses, df_infos = [], [], []\n",
    "    for k in exps.results.keys():\n",
    "        print(f\"working on {k}\")\n",
    "        df_pdb = exps.results[k].df_pdb\n",
    "        df_pdb['task_id'] = k\n",
    "        df_pdb['pdb_name'] = df_pdb.index\n",
    "        df_pdbs.append(df_pdb)\n",
    "\n",
    "\n",
    "        df_pos = exps.results[k].df_pos\n",
    "        df_pos['task_id'] = k\n",
    "        df_poses.append(df_pos)\n",
    "\n",
    "\n",
    "        df_info = exps.results[k].df_info\n",
    "        df_info['task_id'] = k\n",
    "        df_infos.append(df_info)\n",
    "\n",
    "    df_pdb_all = pd.concat(df_pdbs, ignore_index=True)\n",
    "    df_pos_all = pd.concat(df_poses, ignore_index=True)\n",
    "    df_info_all = pd.concat(df_infos, ignore_index=True)\n",
    "    return df_pdb_all, df_pos_all, df_info_all"
   ]
  },
  {
   "cell_type": "code",
   "execution_count": 7,
   "metadata": {},
   "outputs": [
    {
     "name": "stdout",
     "output_type": "stream",
     "text": [
      "working on lm_design_vanilla-fab-fullseq\n",
      "working on lm_design_api-fab-fullseq_T02\n",
      "working on lm_design_api_noAG-fab-fullseq\n",
      "working on antifold-fab-fullseq\n",
      "working on antifold_noAG-fab-fullseq\n",
      "working on antifold_relaxed-fab-fullseq\n",
      "working on esm_if-fab-fullseq\n",
      "working on esm_if_noAG-fab-fullseq\n",
      "working on mpnn-fab-fullseq\n",
      "working on abmpnn-fab-fullseq\n",
      "working on lm_design_vanilla-vhh-fullseq\n",
      "working on antifold-vhh-fullseq\n",
      "working on esm_if-vhh-fullseq\n",
      "working on mpnn-vhh-fullseq\n",
      "working on abmpnn-vhh-fullseq\n"
     ]
    }
   ],
   "source": [
    "df_pdb_all, df_pos_all, df_info_all = collect_dfs(exps)"
   ]
  },
  {
   "cell_type": "code",
   "execution_count": 23,
   "metadata": {},
   "outputs": [],
   "source": [
    "df_pos_all.to_csv(\"../data/processed/df_pos_all_XXX.csv\")\n",
    "df_pdb_all.to_csv(\"../data/processed/df_pdb_all_XXX.csv\")\n",
    "df_info_all.to_csv(\"../data/processed/df_info_all_XXX.csv\")\n",
    "\n",
    "\n"
   ]
  },
  {
   "attachments": {},
   "cell_type": "markdown",
   "metadata": {},
   "source": [
    "### collect seqs for re-fold"
   ]
  },
  {
   "cell_type": "code",
   "execution_count": 13,
   "metadata": {},
   "outputs": [],
   "source": [
    "class Design_methods:\n",
    "    design_methods_fab = ['esm_if-fab-fullseq', 'mpnn-fab-fullseq', 'lm_design_vanilla-fab-fullseq', 'antifold-fab-fullseq']\n",
    "    design_methods_vhh = ['esm_if-vhh-fullseq', 'mpnn-vhh-fullseq', 'lm_design_vanilla-vhh-fullseq', 'antifold-vhh-fullseq', 'abmpnn-vhh-fullseq']\n",
    "    design_methods_vhh2 = ['esm_if-vhh-fullseq', 'mpnn-vhh-fullseq', 'lm_design_vanilla-vhh-fullseq', 'antifold-vhh-fullseq']\n",
    "    design_methods_lm_fab_compare = ['lm_design_api-fab-fullseq_T07', 'lm_design_api-fab-fullseq_T02', 'lm_design_vanilla-fab-fullseq', 'lm_design_api-fab-cdronly','lm_design_api-fab-noag']\n",
    "    design_methods_lm_vhh_compare = ['lm_design_api-vhh-fullseq_T07', 'lm_design_api-vhh-fullseq_T02', 'lm_design_vanilla-vhh-fullseq', 'lm_design_api-vhh-cdronly','lm_design_api-vhh-noag']\n",
    "    antifold_ag_noag = ['antifold-fab-fullseq', 'antifold_noAG-fab-fullseq']\n",
    "    lm_design_ag_noag = ['lm_design_api-fab-fullseq_T02', 'lm_design_api_noAG-fab-fullseq']\n",
    "    esm_if_ag_noag = ['esm_if-fab-fullseq', 'esm_if_noAG-fab-fullseq']"
   ]
  },
  {
   "cell_type": "code",
   "execution_count": 11,
   "metadata": {},
   "outputs": [],
   "source": [
    "def collect_seqs(exps, methods, num=5):\n",
    "\n",
    "    # collect raw sequences\n",
    "\n",
    "    dfs = []\n",
    "    for k in methods:\n",
    "        print(f\"working on {k}\")\n",
    "        df_raw = exps.results[k].df_raw\n",
    "        df_raw['task_id'] = k\n",
    "        # df_pdb['pdb_name'] = df_pdb.index\n",
    "        dfs.append(df_raw)\n",
    "\n",
    "    df_seqs = pd.concat(dfs, ignore_index=True)\n",
    "\n",
    "\n",
    "    df_seqs['design_seq_id'] = df_seqs['task_id'] + \"--\" + df_seqs['pdb_name'] + \"--\" + df_seqs['design_id']\n",
    "\n",
    "    cols = ['task_id', 'design_seq_id', 'pdb_name', 'design_seq_H', 'design_seq_L']\n",
    "\n",
    "    df_seqs = df_seqs[cols]\n",
    "\n",
    "    # sample raw seqs\n",
    "    dfs = []\n",
    "    for k in methods:\n",
    "        df = df_seqs[df_seqs['task_id'] == k].groupby(\"pdb_name\").apply(lambda x:x.tail(num)).reset_index(level=0, drop=True)\n",
    "        dfs.append(df)\n",
    "\n",
    "    df_seqs_sample = pd.concat(dfs, ignore_index=True)\n",
    "    return df_seqs_sample"
   ]
  },
  {
   "cell_type": "code",
   "execution_count": 14,
   "metadata": {},
   "outputs": [
    {
     "name": "stdout",
     "output_type": "stream",
     "text": [
      "working on esm_if-fab-fullseq\n",
      "working on mpnn-fab-fullseq\n",
      "working on lm_design_vanilla-fab-fullseq\n",
      "working on antifold-fab-fullseq\n",
      "working on esm_if-vhh-fullseq\n",
      "working on mpnn-vhh-fullseq\n",
      "working on lm_design_vanilla-vhh-fullseq\n",
      "working on antifold-vhh-fullseq\n",
      "(4060, 5) (1220, 5)\n"
     ]
    }
   ],
   "source": [
    "df_seqs_fab = collect_seqs(exps, Design_methods.design_methods_fab)\n",
    "df_seqs_vhh = collect_seqs(exps, Design_methods.design_methods_vhh2)\n",
    "\n",
    "print(df_seqs_fab.shape, df_seqs_vhh.shape)"
   ]
  },
  {
   "cell_type": "code",
   "execution_count": 16,
   "metadata": {},
   "outputs": [
    {
     "name": "stdout",
     "output_type": "stream",
     "text": [
      "(4060, 26) (1220, 19)\n"
     ]
    }
   ],
   "source": [
    "df_seqs_vhh = df_seqs_vhh.merge(df_vhh_info, on=\"pdb_name\")\n",
    "df_seqs_fab = df_seqs_fab.merge(df_fab_info, on=\"pdb_name\")\n",
    "\n",
    "print(df_seqs_fab.shape, df_seqs_vhh.shape)\n",
    "\n"
   ]
  }
 ],
 "metadata": {
  "kernelspec": {
   "display_name": "Python 3",
   "language": "python",
   "name": "python3"
  },
  "language_info": {
   "codemirror_mode": {
    "name": "ipython",
    "version": 3
   },
   "file_extension": ".py",
   "mimetype": "text/x-python",
   "name": "python",
   "nbconvert_exporter": "python",
   "pygments_lexer": "ipython3",
   "version": "3.10.12"
  },
  "orig_nbformat": 4
 },
 "nbformat": 4,
 "nbformat_minor": 2
}
